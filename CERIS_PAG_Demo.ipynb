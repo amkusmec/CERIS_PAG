{
  "nbformat": 4,
  "nbformat_minor": 0,
  "metadata": {
    "colab": {
      "provenance": [],
      "include_colab_link": true
    },
    "kernelspec": {
      "name": "ir",
      "display_name": "R"
    },
    "language_info": {
      "name": "R"
    }
  },
  "cells": [
    {
      "cell_type": "markdown",
      "metadata": {
        "id": "view-in-github",
        "colab_type": "text"
      },
      "source": [
        "<a href=\"https://colab.research.google.com/github/amkusmec/CERIS_PAG/blob/main/CERIS_PAG_Demo.ipynb\" target=\"_parent\"><img src=\"https://colab.research.google.com/assets/colab-badge.svg\" alt=\"Open In Colab\"/></a>"
      ]
    },
    {
      "cell_type": "markdown",
      "source": [
        "# Setup\n",
        "\n",
        "Run the following three code blocks to load the data, packages, and functions required for CERIS-JGRA."
      ],
      "metadata": {
        "id": "CaBcG5Rob1Um"
      }
    },
    {
      "cell_type": "code",
      "execution_count": 1,
      "metadata": {
        "id": "4zJqwlRSMaJV"
      },
      "outputs": [],
      "source": [
        "system(\"git clone https://github.com/amkusmec/CERIS_PAG/\")\n"
      ]
    },
    {
      "cell_type": "code",
      "source": [
        " if (!require(colorspace)) install.packages(\"colorspace\")\n",
        " if (!require(rrBLUP)) install.packages(\"rrBLUP\")"
      ],
      "metadata": {
        "colab": {
          "base_uri": "https://localhost:8080/"
        },
        "id": "5OPI7GkNMjH6",
        "outputId": "4f1776ff-6824-4f5e-f74c-5c0bc44b8a03"
      },
      "execution_count": 2,
      "outputs": [
        {
          "output_type": "stream",
          "name": "stderr",
          "text": [
            "Loading required package: colorspace\n",
            "\n",
            "Loading required package: rrBLUP\n",
            "\n",
            "Warning message in library(package, lib.loc = lib.loc, character.only = TRUE, logical.return = TRUE, :\n",
            "“there is no package called ‘rrBLUP’”\n",
            "Installing package into ‘/usr/local/lib/R/site-library’\n",
            "(as ‘lib’ is unspecified)\n",
            "\n"
          ]
        }
      ]
    },
    {
      "cell_type": "code",
      "source": [
        "cwd <- '/content/CERIS_PAG/' # This is the location of the files cloned into your Google Drive\n",
        "source(paste0(cwd, 'Sub_functions_PAG.r'))\n",
        "\n",
        "# Temporary code for loading modified functions\n",
        "r_files <- list.files(paste0(cwd, \"R\"), \"*\", full.names = TRUE)\n",
        "for (f in r_files) source(f)"
      ],
      "metadata": {
        "id": "RJDK8XlIcFKn"
      },
      "execution_count": 6,
      "outputs": []
    },
    {
      "cell_type": "markdown",
      "source": [
        "# Experiment selection\n",
        "\n",
        "Modify the values in `\"\"` in the next code block to select an organism and trait for analysis.\n",
        "\n",
        "Organism | Trait Code | Trait name\n",
        "-------- | ---------- | ----------\n",
        "Sorghum  | FTgdd      | GDD to flowering\n",
        "Wheat    | GY         | Grain yield"
      ],
      "metadata": {
        "id": "T2HgorONcaFG"
      }
    },
    {
      "cell_type": "code",
      "source": [
        "experiment <- \"Sorghum\"\n",
        "trait <- \"FTgdd\""
      ],
      "metadata": {
        "id": "ey5M0GvSQ846"
      },
      "execution_count": 7,
      "outputs": []
    },
    {
      "cell_type": "code",
      "source": [
        "exp_dir <- paste(cwd, experiment, '/', sep = '')\n",
        "\n",
        "# Load the environment metadata file\n",
        "# Column `PlantingDate` should be formatted \"YYYY-MM-DD\" for proper parsing\n",
        "env_meta_file <- paste(exp_dir, 'Env_meta_table.txt', sep = '')\n",
        "env_meta_info_0 <- read.table(env_meta_file, header = T, sep = \"\\t\", stringsAsFactors = F)\n",
        "\n",
        "# Load the phenotypic data\n",
        "exp_traits_file <- paste(exp_dir, 'Traits_record.txt', sep = '')\n",
        "exp_traits <- read.table(exp_traits_file, sep = \"\\t\", header = T, stringsAsFactors = F, na.string = 'NA')"
      ],
      "metadata": {
        "id": "5vT7cva2hHNy"
      },
      "execution_count": 5,
      "outputs": []
    },
    {
      "cell_type": "code",
      "source": [
        "# Load the daily environmental data\n",
        "all_env_codes <- unique(exp_traits$env_code)\n",
        "env_cols <- rainbow_hcl(length(all_env_codes), c = 80, l = 60, start = 0, end = 300, fixup = TRUE, alpha = 0.75)\n",
        "\n",
        "envParas_file <- paste0(exp_dir, length(all_env_codes), 'Envs_envParas.txt')\n",
        "if ( !file.exists(envParas_file) ) {\n",
        "  envParas <- Compile_Envirome_Matrix(exp_dir, all_env_codes, envParas_file)\n",
        "} else {\n",
        "  envParas <- read.table(envParas_file, sep = \"\\t\", header = T, stringsAsFactors = F, na.string = \"NA\")\n",
        "  if (!(\"DAP\" %in% names(envParas))) {\n",
        "    params <- setdiff(names(envParas), c(\"env_code\", \"date\"))\n",
        "    envParas <- split(envParas, envParas$env_code)\n",
        "    envParas <- lapply(envParas, function(df) {\n",
        "            df$DAP <- 1:nrow(df)\n",
        "            df[, c(\"env_code\", \"DAP\", params)]\n",
        "    })\n",
        "    envParas <- do.call(\"rbind\", envParas)\n",
        "  }\n",
        "}\n",
        "\n",
        "# Names of the environmental parameters\n",
        "Paras <- names(envParas)[-(1:2)]"
      ],
      "metadata": {
        "id": "zp7aXzvgkAWJ"
      },
      "execution_count": 8,
      "outputs": []
    },
    {
      "cell_type": "code",
      "source": [
        " #### Not sure what the point of this is\n",
        " #if (experiment == '1Sorghum') { searching_days <- 122; trait <- 'FTgdd'};\n",
        " #if (experiment == '2Idaho') { searching_days <- 150; trait <- 'GY'};"
      ],
      "metadata": {
        "id": "08nvq5fbj13-"
      },
      "execution_count": null,
      "outputs": []
    },
    {
      "cell_type": "code",
      "source": [
        "# Standardize the format of the trait data\n",
        "lInd <- which(colnames(exp_traits) == 'line_code')\n",
        "eInd <- which(colnames(exp_traits) == 'env_code')\n",
        "tInd <- which(colnames(exp_traits) == trait)\n",
        "\n",
        "exp_trait <- exp_traits[, c(lInd, eInd, tInd)]\n",
        "colnames(exp_trait)[3] <- 'Yobs'\n",
        "\n",
        "# Average across replicates within environments to reduce to one observation\n",
        "# per line per environment\n",
        "exp_trait <- aggregate(Yobs ~ line_code + env_code, exp_trait, mean, na.rm = TRUE)\n",
        "exp_trait <- exp_trait[!is.na(exp_trait$Yobs), ]\n",
        "\n",
        "line_codes <- unique(exp_trait$line_code)\n",
        "\n",
        "# Calculate the environmental mean phenotype\n",
        "env_mean_trait_0 <- aggregate(Yobs ~ env_code, exp_trait, mean, na.rm = TRUE)\n",
        "colnames(env_mean_trait_0)[2] <- 'meanY'\n",
        "env_mean_trait <- merge(env_mean_trait_0, env_meta_info_0)\n",
        "env_mean_trait <- env_mean_trait[order(env_mean_trait$meanY), ]"
      ],
      "metadata": {
        "id": "y-H5hRiaRRIT"
      },
      "execution_count": null,
      "outputs": []
    },
    {
      "cell_type": "markdown",
      "source": [
        "# Finlay-Wilkinson regression"
      ],
      "metadata": {
        "id": "sG_iOZT41hcb"
      }
    },
    {
      "cell_type": "markdown",
      "source": [
        "# Critical environmental regressors through informed search (CERIS)"
      ],
      "metadata": {
        "id": "eEVLFOnT1kdK"
      }
    },
    {
      "cell_type": "markdown",
      "source": [
        "New section"
      ],
      "metadata": {
        "id": "ZdvB66Ay1phM"
      }
    }
  ]
}